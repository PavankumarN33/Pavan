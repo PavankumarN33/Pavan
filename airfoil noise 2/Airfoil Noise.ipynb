{
 "cells": [
  {
   "cell_type": "code",
   "execution_count": 5,
   "id": "2b0c7a60",
   "metadata": {},
   "outputs": [],
   "source": [
    "import pandas as pd\n",
    "import numpy as np"
   ]
  },
  {
   "cell_type": "code",
   "execution_count": 9,
   "id": "1b143ace",
   "metadata": {},
   "outputs": [],
   "source": [
    "data = pd.read_csv(\"airfoil_self_noise.csv\", sep=\"\\t\", header=None)"
   ]
  },
  {
   "cell_type": "code",
   "execution_count": 10,
   "id": "f017b905",
   "metadata": {},
   "outputs": [
    {
     "data": {
      "text/html": [
       "<div>\n",
       "<style scoped>\n",
       "    .dataframe tbody tr th:only-of-type {\n",
       "        vertical-align: middle;\n",
       "    }\n",
       "\n",
       "    .dataframe tbody tr th {\n",
       "        vertical-align: top;\n",
       "    }\n",
       "\n",
       "    .dataframe thead th {\n",
       "        text-align: right;\n",
       "    }\n",
       "</style>\n",
       "<table border=\"1\" class=\"dataframe\">\n",
       "  <thead>\n",
       "    <tr style=\"text-align: right;\">\n",
       "      <th></th>\n",
       "      <th>0</th>\n",
       "      <th>1</th>\n",
       "      <th>2</th>\n",
       "      <th>3</th>\n",
       "      <th>4</th>\n",
       "      <th>5</th>\n",
       "    </tr>\n",
       "  </thead>\n",
       "  <tbody>\n",
       "    <tr>\n",
       "      <th>0</th>\n",
       "      <td>800</td>\n",
       "      <td>0.0</td>\n",
       "      <td>0.3048</td>\n",
       "      <td>71.3</td>\n",
       "      <td>0.002663</td>\n",
       "      <td>126.201</td>\n",
       "    </tr>\n",
       "    <tr>\n",
       "      <th>1</th>\n",
       "      <td>1000</td>\n",
       "      <td>0.0</td>\n",
       "      <td>0.3048</td>\n",
       "      <td>71.3</td>\n",
       "      <td>0.002663</td>\n",
       "      <td>125.201</td>\n",
       "    </tr>\n",
       "    <tr>\n",
       "      <th>2</th>\n",
       "      <td>1250</td>\n",
       "      <td>0.0</td>\n",
       "      <td>0.3048</td>\n",
       "      <td>71.3</td>\n",
       "      <td>0.002663</td>\n",
       "      <td>125.951</td>\n",
       "    </tr>\n",
       "    <tr>\n",
       "      <th>3</th>\n",
       "      <td>1600</td>\n",
       "      <td>0.0</td>\n",
       "      <td>0.3048</td>\n",
       "      <td>71.3</td>\n",
       "      <td>0.002663</td>\n",
       "      <td>127.591</td>\n",
       "    </tr>\n",
       "    <tr>\n",
       "      <th>4</th>\n",
       "      <td>2000</td>\n",
       "      <td>0.0</td>\n",
       "      <td>0.3048</td>\n",
       "      <td>71.3</td>\n",
       "      <td>0.002663</td>\n",
       "      <td>127.461</td>\n",
       "    </tr>\n",
       "  </tbody>\n",
       "</table>\n",
       "</div>"
      ],
      "text/plain": [
       "      0    1       2     3         4        5\n",
       "0   800  0.0  0.3048  71.3  0.002663  126.201\n",
       "1  1000  0.0  0.3048  71.3  0.002663  125.201\n",
       "2  1250  0.0  0.3048  71.3  0.002663  125.951\n",
       "3  1600  0.0  0.3048  71.3  0.002663  127.591\n",
       "4  2000  0.0  0.3048  71.3  0.002663  127.461"
      ]
     },
     "execution_count": 10,
     "metadata": {},
     "output_type": "execute_result"
    }
   ],
   "source": [
    "data.head()"
   ]
  },
  {
   "cell_type": "code",
   "execution_count": 11,
   "id": "cf60ce93",
   "metadata": {},
   "outputs": [],
   "source": [
    "data.columns=[\"Frequency\", \"angle of attack\", \"Chord length\", \"FSV\", \"SSDT\", \"SSPL\"]"
   ]
  },
  {
   "cell_type": "code",
   "execution_count": 12,
   "id": "99f993d7",
   "metadata": {},
   "outputs": [
    {
     "data": {
      "text/html": [
       "<div>\n",
       "<style scoped>\n",
       "    .dataframe tbody tr th:only-of-type {\n",
       "        vertical-align: middle;\n",
       "    }\n",
       "\n",
       "    .dataframe tbody tr th {\n",
       "        vertical-align: top;\n",
       "    }\n",
       "\n",
       "    .dataframe thead th {\n",
       "        text-align: right;\n",
       "    }\n",
       "</style>\n",
       "<table border=\"1\" class=\"dataframe\">\n",
       "  <thead>\n",
       "    <tr style=\"text-align: right;\">\n",
       "      <th></th>\n",
       "      <th>Frequency</th>\n",
       "      <th>angle of attack</th>\n",
       "      <th>Chord length</th>\n",
       "      <th>FSV</th>\n",
       "      <th>SSDT</th>\n",
       "      <th>SSPL</th>\n",
       "    </tr>\n",
       "  </thead>\n",
       "  <tbody>\n",
       "    <tr>\n",
       "      <th>0</th>\n",
       "      <td>800</td>\n",
       "      <td>0.0</td>\n",
       "      <td>0.3048</td>\n",
       "      <td>71.3</td>\n",
       "      <td>0.002663</td>\n",
       "      <td>126.201</td>\n",
       "    </tr>\n",
       "    <tr>\n",
       "      <th>1</th>\n",
       "      <td>1000</td>\n",
       "      <td>0.0</td>\n",
       "      <td>0.3048</td>\n",
       "      <td>71.3</td>\n",
       "      <td>0.002663</td>\n",
       "      <td>125.201</td>\n",
       "    </tr>\n",
       "    <tr>\n",
       "      <th>2</th>\n",
       "      <td>1250</td>\n",
       "      <td>0.0</td>\n",
       "      <td>0.3048</td>\n",
       "      <td>71.3</td>\n",
       "      <td>0.002663</td>\n",
       "      <td>125.951</td>\n",
       "    </tr>\n",
       "    <tr>\n",
       "      <th>3</th>\n",
       "      <td>1600</td>\n",
       "      <td>0.0</td>\n",
       "      <td>0.3048</td>\n",
       "      <td>71.3</td>\n",
       "      <td>0.002663</td>\n",
       "      <td>127.591</td>\n",
       "    </tr>\n",
       "    <tr>\n",
       "      <th>4</th>\n",
       "      <td>2000</td>\n",
       "      <td>0.0</td>\n",
       "      <td>0.3048</td>\n",
       "      <td>71.3</td>\n",
       "      <td>0.002663</td>\n",
       "      <td>127.461</td>\n",
       "    </tr>\n",
       "  </tbody>\n",
       "</table>\n",
       "</div>"
      ],
      "text/plain": [
       "   Frequency  angle of attack  Chord length   FSV      SSDT     SSPL\n",
       "0        800              0.0        0.3048  71.3  0.002663  126.201\n",
       "1       1000              0.0        0.3048  71.3  0.002663  125.201\n",
       "2       1250              0.0        0.3048  71.3  0.002663  125.951\n",
       "3       1600              0.0        0.3048  71.3  0.002663  127.591\n",
       "4       2000              0.0        0.3048  71.3  0.002663  127.461"
      ]
     },
     "execution_count": 12,
     "metadata": {},
     "output_type": "execute_result"
    }
   ],
   "source": [
    "data.head()"
   ]
  },
  {
   "cell_type": "code",
   "execution_count": 13,
   "id": "cf10ed5f",
   "metadata": {},
   "outputs": [],
   "source": [
    "y=data[\"SSPL\"]\n",
    "data.drop(['SSPL'], axis=1, inplace=True)\n",
    "X=data"
   ]
  },
  {
   "cell_type": "code",
   "execution_count": 14,
   "id": "0ab3b403",
   "metadata": {},
   "outputs": [],
   "source": [
    "from sklearn.model_selection import train_test_split\n",
    "from sklearn.metrics import mean_squared_error, r2_score\n",
    "from sklearn.metrics import mean_absolute_error\n",
    "X_train, X_test, y_train, y_test = train_test_split(X, y, test_size=0.2)"
   ]
  },
  {
   "cell_type": "markdown",
   "id": "69d6270e",
   "metadata": {},
   "source": [
    "# Linear Regression"
   ]
  },
  {
   "cell_type": "code",
   "execution_count": 16,
   "id": "483aa6c7",
   "metadata": {},
   "outputs": [],
   "source": [
    "from sklearn.linear_model import LinearRegression\n",
    "model = LinearRegression()\n",
    "model = model.fit(X_train, y_train)"
   ]
  },
  {
   "cell_type": "code",
   "execution_count": 20,
   "id": "24d26fcb",
   "metadata": {},
   "outputs": [
    {
     "name": "stdout",
     "output_type": "stream",
     "text": [
      "for Training Dataset\n",
      "Mean absolute error:  3.7400810646346074\n",
      "Root maean square error:  4.79652048025357\n",
      "R2 score:  0.5124492850623313\n",
      "for Testing Dataset\n",
      "Mean absolute error:  3.755072008142305\n",
      "Root maean square error:  4.825401058728609\n",
      "R2 score:  0.5249166063650834\n"
     ]
    }
   ],
   "source": [
    "y_pred = model.predict(X_train)\n",
    "rmse = np.sqrt(mean_squared_error(y_train, y_pred))\n",
    "r2 = r2_score(y_train, y_pred)\n",
    "mae = mean_absolute_error(y_train, y_pred)\n",
    "print(\"for Training Dataset\")\n",
    "print(\"Mean absolute error: \", mae)\n",
    "print(\"Root maean square error: \", rmse)\n",
    "print(\"R2 score: \", r2)\n",
    "y_pred = model.predict(X_test)\n",
    "rmse = np.sqrt(mean_squared_error(y_test, y_pred))\n",
    "r2 = r2_score(y_test, y_pred)\n",
    "mae = mean_absolute_error(y_test, y_pred)\n",
    "print(\"for Testing Dataset\")\n",
    "print(\"Mean absolute error: \", mae)\n",
    "print(\"Root maean square error: \", rmse)\n",
    "print(\"R2 score: \", r2)"
   ]
  },
  {
   "cell_type": "code",
   "execution_count": 22,
   "id": "8556a546",
   "metadata": {},
   "outputs": [
    {
     "data": {
      "image/png": "[encoded data removed]",
      "text/plain": [
       "<Figure size 432x288 with 1 Axes>"
      ]
     },
     "metadata": {
      "needs_background": "light"
     },
     "output_type": "display_data"
    }
   ],
   "source": [
    "import matplotlib.pyplot as plt\n",
    "plt.scatter(y_test, y_pred, c='r')\n",
    "plt.plot(y_test, y_test, c='blue')\n",
    "plt.show()"
   ]
  },
  {
   "cell_type": "markdown",
   "id": "af770064",
   "metadata": {},
   "source": [
    "# Ridge Regression"
   ]
  },
  {
   "cell_type": "code",
   "execution_count": 24,
   "id": "8d487e62",
   "metadata": {},
   "outputs": [],
   "source": [
    "from sklearn.linear_model import Ridge\n",
    "model = Ridge()\n",
    "model = model.fit(X_train, y_train)"
   ]
  },
  {
   "cell_type": "code",
   "execution_count": 25,
   "id": "ad48152f",
   "metadata": {},
   "outputs": [
    {
     "name": "stdout",
     "output_type": "stream",
     "text": [
      "for Training Dataset\n",
      "Mean absolute error:  3.9088720503983856\n",
      "Root maean square error:  4.926714595402722\n",
      "R2 score:  0.4856224566620091\n",
      "for Testing Dataset\n",
      "Mean absolute error:  3.9402965289226604\n",
      "Root maean square error:  5.00343177190147\n",
      "R2 score:  0.4892140017850104\n"
     ]
    }
   ],
   "source": [
    "y_pred = model.predict(X_train)\n",
    "rmse = np.sqrt(mean_squared_error(y_train, y_pred))\n",
    "r2 = r2_score(y_train, y_pred)\n",
    "mae = mean_absolute_error(y_train, y_pred)\n",
    "print(\"for Training Dataset\")\n",
    "print(\"Mean absolute error: \", mae)\n",
    "print(\"Root maean square error: \", rmse)\n",
    "print(\"R2 score: \", r2)\n",
    "y_pred = model.predict(X_test)\n",
    "rmse = np.sqrt(mean_squared_error(y_test, y_pred))\n",
    "r2 = r2_score(y_test, y_pred)\n",
    "mae = mean_absolute_error(y_test, y_pred)\n",
    "print(\"for Testing Dataset\")\n",
    "print(\"Mean absolute error: \", mae)\n",
    "print(\"Root maean square error: \", rmse)\n",
    "print(\"R2 score: \", r2)"
   ]
  },
  {
   "cell_type": "code",
   "execution_count": 26,
   "id": "341d02b6",
   "metadata": {},
   "outputs": [
    {
     "data": {
      "image/png": "[encoded data removed]",
      "text/plain": [
       "<Figure size 432x288 with 1 Axes>"
      ]
     },
     "metadata": {
      "needs_background": "light"
     },
     "output_type": "display_data"
    }
   ],
   "source": [
    "import matplotlib.pyplot as plt\n",
    "plt.scatter(y_test, y_pred, c='r')\n",
    "plt.plot(y_test, y_test, c='blue')\n",
    "plt.show()"
   ]
  },
  {
   "cell_type": "markdown",
   "id": "226b3be3",
   "metadata": {},
   "source": [
    "# Lasso Regression"
   ]
  },
  {
   "cell_type": "code",
   "execution_count": 27,
   "id": "632e02c7",
   "metadata": {},
   "outputs": [],
   "source": [
    "from sklearn.linear_model import Lasso\n",
    "model = Lasso()\n",
    "model = model.fit(X_train, y_train)"
   ]
  },
  {
   "cell_type": "code",
   "execution_count": 28,
   "id": "b0d9496c",
   "metadata": {},
   "outputs": [
    {
     "name": "stdout",
     "output_type": "stream",
     "text": [
      "for Training Dataset\n",
      "Mean absolute error:  4.803432360539582\n",
      "Root maean square error:  5.888202432846896\n",
      "R2 score:  0.26526173900807837\n",
      "for Testing Dataset\n",
      "Mean absolute error:  4.874143346569903\n",
      "Root maean square error:  5.926601503265438\n",
      "R2 score:  0.2833378412238621\n"
     ]
    }
   ],
   "source": [
    "y_pred = model.predict(X_train)\n",
    "rmse = np.sqrt(mean_squared_error(y_train, y_pred))\n",
    "r2 = r2_score(y_train, y_pred)\n",
    "mae = mean_absolute_error(y_train, y_pred)\n",
    "print(\"for Training Dataset\")\n",
    "print(\"Mean absolute error: \", mae)\n",
    "print(\"Root maean square error: \", rmse)\n",
    "print(\"R2 score: \", r2)\n",
    "y_pred = model.predict(X_test)\n",
    "rmse = np.sqrt(mean_squared_error(y_test, y_pred))\n",
    "r2 = r2_score(y_test, y_pred)\n",
    "mae = mean_absolute_error(y_test, y_pred)\n",
    "print(\"for Testing Dataset\")\n",
    "print(\"Mean absolute error: \", mae)\n",
    "print(\"Root maean square error: \", rmse)\n",
    "print(\"R2 score: \", r2)"
   ]
  },
  {
   "cell_type": "code",
   "execution_count": 29,
   "id": "49d8cf41",
   "metadata": {},
   "outputs": [
    {
     "data": {
      "image/png": "[encoded data removed]",
      "text/plain": [
       "<Figure size 432x288 with 1 Axes>"
      ]
     },
     "metadata": {
      "needs_background": "light"
     },
     "output_type": "display_data"
    }
   ],
   "source": [
    "import matplotlib.pyplot as plt\n",
    "plt.scatter(y_test, y_pred, c='r')\n",
    "plt.plot(y_test, y_test, c='blue')\n",
    "plt.show()"
   ]
  },
  {
   "cell_type": "markdown",
   "id": "3fecd3ce",
   "metadata": {},
   "source": [
    "# ElasticNet Regression"
   ]
  },
  {
   "cell_type": "code",
   "execution_count": 30,
   "id": "8ca5185c",
   "metadata": {},
   "outputs": [],
   "source": [
    "from sklearn.linear_model import ElasticNet\n",
    "model = ElasticNet()\n",
    "model = model.fit(X_train, y_train)"
   ]
  },
  {
   "cell_type": "code",
   "execution_count": 31,
   "id": "60ad6b64",
   "metadata": {},
   "outputs": [
    {
     "name": "stdout",
     "output_type": "stream",
     "text": [
      "for Training Dataset\n",
      "Mean absolute error:  4.806984626172601\n",
      "Root maean square error:  5.886417578588966\n",
      "R2 score:  0.2657071047950632\n",
      "for Testing Dataset\n",
      "Mean absolute error:  4.877671251979323\n",
      "Root maean square error:  5.927373903663391\n",
      "R2 score:  0.2831510271761176\n"
     ]
    }
   ],
   "source": [
    "y_pred = model.predict(X_train)\n",
    "rmse = np.sqrt(mean_squared_error(y_train, y_pred))\n",
    "r2 = r2_score(y_train, y_pred)\n",
    "mae = mean_absolute_error(y_train, y_pred)\n",
    "print(\"for Training Dataset\")\n",
    "print(\"Mean absolute error: \", mae)\n",
    "print(\"Root maean square error: \", rmse)\n",
    "print(\"R2 score: \", r2)\n",
    "y_pred = model.predict(X_test)\n",
    "rmse = np.sqrt(mean_squared_error(y_test, y_pred))\n",
    "r2 = r2_score(y_test, y_pred)\n",
    "mae = mean_absolute_error(y_test, y_pred)\n",
    "print(\"for Testing Dataset\")\n",
    "print(\"Mean absolute error: \", mae)\n",
    "print(\"Root maean square error: \", rmse)\n",
    "print(\"R2 score: \", r2)"
   ]
  },
  {
   "cell_type": "code",
   "execution_count": 32,
   "id": "ad126fc6",
   "metadata": {},
   "outputs": [
    {
     "data": {
      "image/png": "[encoded data removed]",
      "text/plain": [
       "<Figure size 432x288 with 1 Axes>"
      ]
     },
     "metadata": {
      "needs_background": "light"
     },
     "output_type": "display_data"
    }
   ],
   "source": [
    "import matplotlib.pyplot as plt\n",
    "plt.scatter(y_test, y_pred, c='r')\n",
    "plt.plot(y_test, y_test, c='blue')\n",
    "plt.show()"
   ]
  },
  {
   "cell_type": "code",
   "execution_count": 33,
   "id": "ce7d576a",
   "metadata": {},
   "outputs": [
    {
     "name": "stdout",
     "output_type": "stream",
     "text": [
      "for Training Dataset\n",
      "Mean absolute error:  3.7451005980308674\n",
      "Root maean square error:  4.8373162708944255\n",
      "R2 score:  0.5162588269075403\n",
      "for Testing Dataset\n",
      "Mean absolute error:  3.6424089811179385\n",
      "Root maean square error:  4.738440994248749\n",
      "R2 score:  0.5076216282836294\n"
     ]
    }
   ],
   "source": [
    "X_train, X_test, y_train, y_test = train_test_split(X, y, test_size=0.3)\n",
    "model = LinearRegression()\n",
    "model = model.fit(X_train, y_train)\n",
    "y_pred = model.predict(X_train)\n",
    "rmse = np.sqrt(mean_squared_error(y_train, y_pred))\n",
    "r2 = r2_score(y_train, y_pred)\n",
    "mae = mean_absolute_error(y_train, y_pred)\n",
    "print(\"for Training Dataset\")\n",
    "print(\"Mean absolute error: \", mae)\n",
    "print(\"Root maean square error: \", rmse)\n",
    "print(\"R2 score: \", r2)\n",
    "y_pred = model.predict(X_test)\n",
    "rmse = np.sqrt(mean_squared_error(y_test, y_pred))\n",
    "r2 = r2_score(y_test, y_pred)\n",
    "mae = mean_absolute_error(y_test, y_pred)\n",
    "print(\"for Testing Dataset\")\n",
    "print(\"Mean absolute error: \", mae)\n",
    "print(\"Root maean square error: \", rmse)\n",
    "print(\"R2 score: \", r2)"
   ]
  },
  {
   "cell_type": "code",
   "execution_count": 34,
   "id": "41a67c2e",
   "metadata": {},
   "outputs": [
    {
     "data": {
      "image/png": "[encoded data removed]",
      "text/plain": [
       "<Figure size 432x288 with 1 Axes>"
      ]
     },
     "metadata": {
      "needs_background": "light"
     },
     "output_type": "display_data"
    }
   ],
   "source": [
    "plt.scatter(y_test, y_pred, c='r')\n",
    "plt.plot(y_test, y_test, c='blue')\n",
    "plt.show()"
   ]
  },
  {
   "cell_type": "code",
   "execution_count": 35,
   "id": "4990e013",
   "metadata": {},
   "outputs": [
    {
     "name": "stdout",
     "output_type": "stream",
     "text": [
      "for Training Dataset\n",
      "Mean absolute error:  3.756639334991887\n",
      "Root maean square error:  4.820177544788543\n",
      "R2 score:  0.5218665696680365\n",
      "for Testing Dataset\n",
      "Mean absolute error:  3.7217098734219345\n",
      "Root maean square error:  4.777426036213167\n",
      "R2 score:  0.503532312082311\n"
     ]
    }
   ],
   "source": [
    "X_train, X_test, y_train, y_test = train_test_split(X, y, test_size=0.4)\n",
    "model = LinearRegression()\n",
    "model = model.fit(X_train, y_train)\n",
    "y_pred = model.predict(X_train)\n",
    "rmse = np.sqrt(mean_squared_error(y_train, y_pred))\n",
    "r2 = r2_score(y_train, y_pred)\n",
    "mae = mean_absolute_error(y_train, y_pred)\n",
    "print(\"for Training Dataset\")\n",
    "print(\"Mean absolute error: \", mae)\n",
    "print(\"Root maean square error: \", rmse)\n",
    "print(\"R2 score: \", r2)\n",
    "y_pred = model.predict(X_test)\n",
    "rmse = np.sqrt(mean_squared_error(y_test, y_pred))\n",
    "r2 = r2_score(y_test, y_pred)\n",
    "mae = mean_absolute_error(y_test, y_pred)\n",
    "print(\"for Testing Dataset\")\n",
    "print(\"Mean absolute error: \", mae)\n",
    "print(\"Root maean square error: \", rmse)\n",
    "print(\"R2 score: \", r2)"
   ]
  },
  {
   "cell_type": "code",
   "execution_count": 36,
   "id": "11c2eecc",
   "metadata": {},
   "outputs": [
    {
     "data": {
      "image/png": "[encoded data removed]",
      "text/plain": [
       "<Figure size 432x288 with 1 Axes>"
      ]
     },
     "metadata": {
      "needs_background": "light"
     },
     "output_type": "display_data"
    }
   ],
   "source": [
    "plt.scatter(y_test, y_pred, c='r')\n",
    "plt.plot(y_test, y_test, c='blue')\n",
    "plt.show()"
   ]
  },
  {
   "cell_type": "markdown",
   "id": "872040d3",
   "metadata": {},
   "source": [
    "# Decision Tree"
   ]
  },
  {
   "cell_type": "code",
   "execution_count": 39,
   "id": "9565b8af",
   "metadata": {},
   "outputs": [],
   "source": [
    "from sklearn.tree import DecisionTreeRegressor\n",
    "regr = DecisionTreeRegressor()\n",
    "regr = regr.fit(X_train, y_train)"
   ]
  },
  {
   "cell_type": "code",
   "execution_count": 40,
   "id": "1063145d",
   "metadata": {},
   "outputs": [
    {
     "name": "stdout",
     "output_type": "stream",
     "text": [
      "for Training Dataset\n",
      "Mean absolute error:  0.0\n",
      "Root maean square error:  0.0\n",
      "R2 score:  1.0\n",
      "for Testing Dataset\n",
      "Mean absolute error:  2.142242524916944\n",
      "Root maean square error:  2.9111708750582435\n",
      "R2 score:  0.8156519961373295\n"
     ]
    }
   ],
   "source": [
    "y_pred = regr.predict(X_train)\n",
    "rmse = np.sqrt(mean_squared_error(y_train, y_pred))\n",
    "r2 = r2_score(y_train, y_pred)\n",
    "mae = mean_absolute_error(y_train, y_pred)\n",
    "print(\"for Training Dataset\")\n",
    "print(\"Mean absolute error: \", mae)\n",
    "print(\"Root maean square error: \", rmse)\n",
    "print(\"R2 score: \", r2)\n",
    "y_pred = regr.predict(X_test)\n",
    "rmse = np.sqrt(mean_squared_error(y_test, y_pred))\n",
    "r2 = r2_score(y_test, y_pred)\n",
    "mae = mean_absolute_error(y_test, y_pred)\n",
    "print(\"for Testing Dataset\")\n",
    "print(\"Mean absolute error: \", mae)\n",
    "print(\"Root maean square error: \", rmse)\n",
    "print(\"R2 score: \", r2)"
   ]
  },
  {
   "cell_type": "code",
   "execution_count": 41,
   "id": "f71bb821",
   "metadata": {},
   "outputs": [
    {
     "data": {
      "image/png": "[encoded data removed]",
      "text/plain": [
       "<Figure size 432x288 with 1 Axes>"
      ]
     },
     "metadata": {
      "needs_background": "light"
     },
     "output_type": "display_data"
    }
   ],
   "source": [
    "plt.scatter(y_test, y_pred, c='r')\n",
    "plt.plot(y_test, y_test, c='blue')\n",
    "plt.show()"
   ]
  },
  {
   "cell_type": "markdown",
   "id": "fcbf3fb4",
   "metadata": {},
   "source": [
    "# RandomForesstRegression"
   ]
  },
  {
   "cell_type": "code",
   "execution_count": 46,
   "id": "911fb2c1",
   "metadata": {},
   "outputs": [],
   "source": [
    "from sklearn.ensemble import RandomForestRegressor\n",
    "regr = RandomForestRegressor(max_depth=3, random_state=0, n_estimators=100)\n",
    "regr = regr.fit(X_train, y_train)"
   ]
  },
  {
   "cell_type": "code",
   "execution_count": 47,
   "id": "6510e004",
   "metadata": {},
   "outputs": [
    {
     "name": "stdout",
     "output_type": "stream",
     "text": [
      "for Training Dataset\n",
      "Mean absolute error:  3.56518100813329\n",
      "Root maean square error:  4.466306895688698\n",
      "R2 score:  0.5894933821112869\n",
      "for Testing Dataset\n",
      "Mean absolute error:  3.7112844121790047\n",
      "Root maean square error:  4.6098644459417155\n",
      "R2 score:  0.5377474089943881\n"
     ]
    }
   ],
   "source": [
    "y_pred = regr.predict(X_train)\n",
    "rmse = np.sqrt(mean_squared_error(y_train, y_pred))\n",
    "r2 = r2_score(y_train, y_pred)\n",
    "mae = mean_absolute_error(y_train, y_pred)\n",
    "print(\"for Training Dataset\")\n",
    "print(\"Mean absolute error: \", mae)\n",
    "print(\"Root maean square error: \", rmse)\n",
    "print(\"R2 score: \", r2)\n",
    "y_pred = regr.predict(X_test)\n",
    "rmse = np.sqrt(mean_squared_error(y_test, y_pred))\n",
    "r2 = r2_score(y_test, y_pred)\n",
    "mae = mean_absolute_error(y_test, y_pred)\n",
    "print(\"for Testing Dataset\")\n",
    "print(\"Mean absolute error: \", mae)\n",
    "print(\"Root maean square error: \", rmse)\n",
    "print(\"R2 score: \", r2)"
   ]
  },
  {
   "cell_type": "code",
   "execution_count": 48,
   "id": "1d00ffa5",
   "metadata": {},
   "outputs": [
    {
     "data": {
      "image/png": "[encoded data removed]",
      "text/plain": [
       "<Figure size 432x288 with 1 Axes>"
      ]
     },
     "metadata": {
      "needs_background": "light"
     },
     "output_type": "display_data"
    }
   ],
   "source": [
    "plt.scatter(y_test, y_pred, c='r')\n",
    "plt.plot(y_test, y_test, c='blue')\n",
    "plt.show()"
   ]
  },
  {
   "cell_type": "code",
   "execution_count": null,
   "id": "aec8c63b",
   "metadata": {},
   "outputs": [],
   "source": []
  }
 ],
 "metadata": {
  "kernelspec": {
   "display_name": "Python 3 (ipykernel)",
   "language": "python",
   "name": "python3"
  },
  "language_info": {
   "codemirror_mode": {
    "name": "ipython",
    "version": 3
   },
   "file_extension": ".py",
   "mimetype": "text/x-python",
   "name": "python",
   "nbconvert_exporter": "python",
   "pygments_lexer": "ipython3",
   "version": "3.9.12"
  }
 },
 "nbformat": 4,
 "nbformat_minor": 5
}
